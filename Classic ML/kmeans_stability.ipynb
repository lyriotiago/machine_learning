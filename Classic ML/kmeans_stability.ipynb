{
 "cells": [
  {
   "cell_type": "code",
   "execution_count": 1,
   "id": "65e965af",
   "metadata": {},
   "outputs": [],
   "source": [
    "import pandas as pd\n",
    "import numpy as np\n",
    "import sklearn.datasets as skdata\n",
    "\n",
    "from scipy.spatial import distance\n",
    "import time\n",
    "\n",
    "from sklearn.preprocessing import StandardScaler\n",
    "from sklearn.cluster import KMeans\n",
    "\n",
    "from sklearn.base import clone\n",
    "from sklearn.utils import check_random_state\n",
    "from sklearn.metrics import adjusted_rand_score"
   ]
  },
  {
   "cell_type": "markdown",
   "id": "751ce424",
   "metadata": {},
   "source": [
    "# Teste de estabilidade de clusters"
   ]
  },
  {
   "cell_type": "markdown",
   "id": "765e6665",
   "metadata": {},
   "source": [
    "## Teste de estabilidade original"
   ]
  },
  {
   "cell_type": "markdown",
   "id": "47b642d8",
   "metadata": {},
   "source": [
    "Código apresentado pelo professor Gil, em aula (Let's Code)."
   ]
  },
  {
   "cell_type": "code",
   "execution_count": 2,
   "id": "bba413dc",
   "metadata": {},
   "outputs": [],
   "source": [
    "def cluster_stability(X, est, n_iter=20):\n",
    "    time_kmeans_s = time.time()\n",
    "    rng = np.random.RandomState(42)\n",
    "    labels = []\n",
    "    indices = []\n",
    "    for i in range(n_iter):\n",
    "        # draw bootstrap samples, store indices\n",
    "        sample_indices = rng.randint(0, X.shape[0], X.shape[0])\n",
    "        indices.append(sample_indices)\n",
    "\n",
    "        est = clone(est)\n",
    "        if hasattr(est, \"random_state\"):\n",
    "            # randomize estimator if possi\"ble\n",
    "            est.random_state = rng.randint(1e5)\n",
    "            \n",
    "        X_bootstrap = X[sample_indices]\n",
    "        est.fit(X_bootstrap)\n",
    "        # store clustering outcome using original indices\n",
    "        relabel = -np.ones(X.shape[0], dtype='int')\n",
    "        relabel[sample_indices] = est.labels_\n",
    "        labels.append(relabel)\n",
    "    time_kmeans_e = time.time()\n",
    "    print('time kmeans:',round(time_kmeans_e-time_kmeans_s,2))\n",
    "    scores = []\n",
    "    \n",
    "    time_score_s = time.time()\n",
    "    for l, i in zip(labels, indices):\n",
    "        for k, j in zip(labels, indices):\n",
    "            # we also compute the diagonal which is a bit silly\n",
    "            in_both = np.intersect1d(i, j)\n",
    "            scores.append(adjusted_rand_score(l[in_both], k[in_both]))\n",
    "    time_score_e = time.time()    \n",
    "    print('time score :',round(time_score_e-time_score_s,2))\n",
    "    return np.mean(scores)"
   ]
  },
  {
   "cell_type": "markdown",
   "id": "e79112de",
   "metadata": {},
   "source": [
    "## Teste de estabilidade para o Kmeans"
   ]
  },
  {
   "cell_type": "markdown",
   "id": "4801dd79",
   "metadata": {},
   "source": [
    "Abaixo segue uma função otimizada para testar a estabilidade de clusters feitos pelo K-means.\n",
    "O cálculo do score é 10x mais rápido. Isso se deve ao fato de que a comparação para determinar a equivalência entre os clusters é feita através dos centróides e não dos elementos. Ou seja, não importa se a quantidade de elementos cresça, a compexidade do cálculo está limitada ao número de centróides (que é igual ao número de clusters)."
   ]
  },
  {
   "cell_type": "code",
   "execution_count": 3,
   "id": "03fbcde2",
   "metadata": {
    "run_control": {
     "marked": false
    }
   },
   "outputs": [],
   "source": [
    "def get_dict(cluster_centers):\n",
    "    '''Recebe os centróides de n instancias do Kmeans. Adota o primeiro conjunto de centróides como referência e, através da comparação das distâncias euclidianas entre os centróides, identifica a equivalência dos clusters para as diferentes instâncias de kmeans.\n",
    "    Retorna um dicionário de dicionários com essa equivalência (sendo que o -1 sempre equivale a si mesmo).\n",
    "    Exemplo:\n",
    "    {1: {-1: -1, 6: 0, 5: 1, 2: 2, 4: 3, 3: 4, 1: 5, 0: 6},\n",
    "     2: {-1: -1, 4: 0, 0: 1, 6: 2, 3: 3, 1: 4, 2: 5, 5: 6},\n",
    "     3: {-1: -1, 4: 0, 0: 1, 2: 2, 3: 3, 1: 4, 5: 5, 6: 6}}\n",
    "    Aqui, podemos entender que, para a instância 1, o label 6 equivale ao label 0 da primeira instancia, o lebel 5 equivale ao label 1 e assim sucessivamente.\n",
    "    '''\n",
    "    dicts = {}\n",
    "    for n_center,other_centers in enumerate(cluster_centers[1:]):\n",
    "        d=[]\n",
    "        #nesse primeiro for, pega o cluster zero como referência\n",
    "        #e guarda os centróides de cada cluster em uma lista\n",
    "        for i,center_a in enumerate(cluster_centers[0]):\n",
    "            d.append([])\n",
    "            \n",
    "            #nesse segundo for, calcula a distância euclidiana de cada centróide das outras instâncias do kmeans\n",
    "            #em relação aos centróides de referência\n",
    "            for j,center_b in enumerate(other_centers):\n",
    "                d[i].append(distance.euclidean(center_a, center_b))\n",
    "        \n",
    "        #array com as distâncias euclidianas\n",
    "        np_d=np.array(d)\n",
    "\n",
    "        dict_center = {-1:-1}\n",
    "        \n",
    "        #esse for verifica qual label tem o centróide mais próximo do centróide do label de referência\n",
    "        #e monta o dicionário\n",
    "        for i,center in enumerate(np_d):\n",
    "            k=0\n",
    "            #esse while é pra resolver algum possível empate. \n",
    "            #caso um dos elementos da equivalência identificada já tenha sido atribuído,\n",
    "            #defina a equivalência como o segundo centróide mais próximo\n",
    "            while True:\n",
    "                #defina a chave do dicionário como a posição da menor distância euclidiana\n",
    "                dict_key = np.argpartition(center, k)[k]\n",
    "                #caso a posição no dicionário esteja vazia, atribua a equivalência\n",
    "                if dict_center.get(dict_key)==None:\n",
    "                    dict_center[dict_key] = i\n",
    "                    break\n",
    "                #caso a posição não esteja vazia, faça a equivalência com o segundo mais próximo (ou treceiro, ou quarto...)\n",
    "                else:\n",
    "                    k+=1\n",
    "                    dict_key = np.argpartition(center, k)[k]\n",
    "        #guarde as equivalências dessa instancia do kmeans no dicionário a ser retornado\n",
    "        dicts[n_center+1] = dict_center\n",
    "    return dicts"
   ]
  },
  {
   "cell_type": "code",
   "execution_count": 4,
   "id": "9383a7d0",
   "metadata": {},
   "outputs": [],
   "source": [
    "def get_score(labels,cluster_centers,n_iter):\n",
    "    '''Recebe um vetor com os labels, os centróides de cada label e o número de iterações.\n",
    "    Retorna o score médio de semelhança entre os clusters equivalentes\n",
    "    '''\n",
    "    dict_map = get_dict(cluster_centers)\n",
    "    mapped_labels=labels.copy()\n",
    "\n",
    "    #converte os labels para labes equivalentes\n",
    "    for i in range(1,len(labels)):\n",
    "        mapped_labels[i] = np.vectorize(dict_map[i].get)(labels[i])\n",
    "\n",
    "    score=np.array([])\n",
    "    \n",
    "    #calcula o percentual de labels que são iguais \n",
    "    for label_a in mapped_labels:\n",
    "        for label_b in mapped_labels:\n",
    "            #defina uma m´scara excluindo as posições com -1\n",
    "            mask = (label_a==-1)|(label_b==-1)\n",
    "            \n",
    "            #calcule um vetor binário onde as posições iguais são True e as diferentes são False\n",
    "            same = label_a[~mask]==label_b[~mask]\n",
    "            \n",
    "            #conte quantos valores são True e quantos são False\n",
    "            #salve no score o valor percentual da contagem de True: sum(True)/(sum(True)+sum(False))\n",
    "            count = np.unique(same, return_counts=True)\n",
    "            score=np.append(score,count[1][-1]/count[1].sum())\n",
    "\n",
    "    #mascare com uma matriz triangular (para ignorar a diagonal)\n",
    "    mask_score = (1-np.triu(np.ones(n_iter, dtype='int')))\n",
    "    mask_score = np.where(mask_score.ravel()==1)\n",
    "    #retorne a média dos scores\n",
    "    return score.ravel()[mask_score].mean()"
   ]
  },
  {
   "cell_type": "code",
   "execution_count": 5,
   "id": "9559af90",
   "metadata": {},
   "outputs": [],
   "source": [
    "def kmeans_stability(X,est,n_iter):    \n",
    "    time_kmeans_s = time.time()\n",
    "    rng = np.random.RandomState(42)\n",
    "    labels = []\n",
    "    indices = []\n",
    "    cluster_centers = []\n",
    "    for i in range(n_iter):\n",
    "        # draw bootstrap samples, store indices\n",
    "        sample_indices = rng.randint(0, X.shape[0], X.shape[0])\n",
    "        indices.append(sample_indices)\n",
    "\n",
    "        est = clone(est)\n",
    "        if hasattr(est, \"random_state\"):\n",
    "            # randomize estimator if possible\n",
    "            est.random_state = rng.randint(1e5)\n",
    "\n",
    "\n",
    "        if hasattr(est, \"random_state\"):\n",
    "            # randomize estimator if possible\n",
    "            est.random_state = rng.randint(1e5)\n",
    "\n",
    "        X_bootstrap = X[sample_indices]\n",
    "        est.fit(X_bootstrap)\n",
    "        cluster_centers.append(est.cluster_centers_)\n",
    "        # store clustering outcome using original indices\n",
    "        relabel = -np.ones(X.shape[0], dtype='int')\n",
    "        relabel[sample_indices] = est.labels_\n",
    "        labels.append(relabel)\n",
    "    time_kmeans_e = time.time()\n",
    "    print('time kmeans:',round(time_kmeans_e-time_kmeans_s,2))\n",
    "    \n",
    "    time_score_s = time.time()\n",
    "    score = get_score(labels,cluster_centers,n_iter)\n",
    "    time_score_e = time.time()    \n",
    "    print('time score :',round(time_score_e-time_score_s,2))\n",
    "    return score"
   ]
  },
  {
   "cell_type": "markdown",
   "id": "fc1af4f5",
   "metadata": {},
   "source": [
    "# Dados"
   ]
  },
  {
   "cell_type": "markdown",
   "id": "05caff48",
   "metadata": {},
   "source": [
    "## Carregando os dados"
   ]
  },
  {
   "cell_type": "code",
   "execution_count": 6,
   "id": "2582110d",
   "metadata": {},
   "outputs": [],
   "source": [
    "df = pd.read_csv('datasets/5.1.winequality-red.csv')\n",
    "df_std = StandardScaler().fit_transform(df)"
   ]
  },
  {
   "cell_type": "markdown",
   "id": "851fc098",
   "metadata": {},
   "source": [
    "## Normalizando os dados"
   ]
  },
  {
   "cell_type": "code",
   "execution_count": 7,
   "id": "71187028",
   "metadata": {},
   "outputs": [],
   "source": [
    "df_std = StandardScaler().fit_transform(df)"
   ]
  },
  {
   "cell_type": "markdown",
   "id": "d2aadfd8",
   "metadata": {},
   "source": [
    "## Calculando o número ótimo de clusters"
   ]
  },
  {
   "cell_type": "code",
   "execution_count": 8,
   "id": "6c29feb9",
   "metadata": {},
   "outputs": [],
   "source": [
    "def calculate_wcss(data):\n",
    "    wcss = []\n",
    "\n",
    "    for n in range(2, 20):\n",
    "        model = KMeans(n_clusters=n, random_state=42)\n",
    "        model.fit(X=data)\n",
    "        wcss.append(model.inertia_)\n",
    "\n",
    "    return wcss\n",
    "# 21\n",
    "def optimal_number_of_clusters(wcss):\n",
    "    x1, y1 = 2, wcss[0]\n",
    "    x2, y2 = 20, wcss[len(wcss)-1]\n",
    "\n",
    "    distances = []\n",
    "    for i in range(len(wcss)):\n",
    "        x0 = i+2\n",
    "        y0 = wcss[i]\n",
    "        numerator = np.abs((y2-y1)*x0 - (x2-x1)*y0 + x2*y1 - y2*x1)\n",
    "        denominator = np.sqrt((y2 - y1)**2 + (x2 - x1)**2)\n",
    "        distances.append(numerator/denominator)\n",
    "    \n",
    "    return distances.index(max(distances)) + 2"
   ]
  },
  {
   "cell_type": "code",
   "execution_count": 9,
   "id": "b8204ea3",
   "metadata": {},
   "outputs": [
    {
     "data": {
      "text/plain": [
       "7"
      ]
     },
     "execution_count": 9,
     "metadata": {},
     "output_type": "execute_result"
    }
   ],
   "source": [
    "k = optimal_number_of_clusters(calculate_wcss(df_std))\n",
    "k"
   ]
  },
  {
   "cell_type": "markdown",
   "id": "b0a0a62b",
   "metadata": {},
   "source": [
    "# Desempenho das funções"
   ]
  },
  {
   "cell_type": "markdown",
   "id": "dbdc7028",
   "metadata": {},
   "source": [
    "Calculando a estabilidade com a função original para a vizinhança do número ótimo de clusters (k +-3).\n",
    "\n",
    "Na tela são impressos deois tempos:\n",
    "- o tempo gasto fazendo as clusterizações (deve ser o mesmo para as duas funções)\n",
    "- o tempo gasto calculando o score de semelhança (que deve ser menor para a função otimizada)"
   ]
  },
  {
   "cell_type": "code",
   "execution_count": 10,
   "id": "44d04735",
   "metadata": {},
   "outputs": [],
   "source": [
    "neighborhood = range(k-3,k+4)"
   ]
  },
  {
   "cell_type": "markdown",
   "id": "7a9bda69",
   "metadata": {},
   "source": [
    "## Função original"
   ]
  },
  {
   "cell_type": "code",
   "execution_count": 11,
   "id": "61963c0e",
   "metadata": {
    "scrolled": true
   },
   "outputs": [
    {
     "name": "stdout",
     "output_type": "stream",
     "text": [
      "time kmeans: 2.14\n",
      "time score : 0.89\n",
      "time kmeans: 2.32\n",
      "time score : 0.9\n",
      "time kmeans: 2.49\n",
      "time score : 0.89\n",
      "time kmeans: 2.61\n",
      "time score : 0.89\n",
      "time kmeans: 2.8\n",
      "time score : 0.9\n",
      "time kmeans: 2.93\n",
      "time score : 0.9\n",
      "time kmeans: 3.09\n",
      "time score : 0.9\n",
      "Wall time: 24.7 s\n"
     ]
    }
   ],
   "source": [
    "%%time\n",
    "stability = {}\n",
    "for n_clusters in neighborhood:\n",
    "    model = KMeans(n_clusters=n_clusters)\n",
    "    s = cluster_stability(df_std, model, n_iter=40)\n",
    "    stability[n_clusters]=s"
   ]
  },
  {
   "cell_type": "code",
   "execution_count": 12,
   "id": "522a1e17",
   "metadata": {},
   "outputs": [
    {
     "data": {
      "text/html": [
       "<div>\n",
       "<style scoped>\n",
       "    .dataframe tbody tr th:only-of-type {\n",
       "        vertical-align: middle;\n",
       "    }\n",
       "\n",
       "    .dataframe tbody tr th {\n",
       "        vertical-align: top;\n",
       "    }\n",
       "\n",
       "    .dataframe thead th {\n",
       "        text-align: right;\n",
       "    }\n",
       "</style>\n",
       "<table border=\"1\" class=\"dataframe\">\n",
       "  <thead>\n",
       "    <tr style=\"text-align: right;\">\n",
       "      <th></th>\n",
       "      <th>original_stability</th>\n",
       "    </tr>\n",
       "  </thead>\n",
       "  <tbody>\n",
       "    <tr>\n",
       "      <th>4</th>\n",
       "      <td>0.678164</td>\n",
       "    </tr>\n",
       "    <tr>\n",
       "      <th>5</th>\n",
       "      <td>0.830800</td>\n",
       "    </tr>\n",
       "    <tr>\n",
       "      <th>6</th>\n",
       "      <td>0.757402</td>\n",
       "    </tr>\n",
       "    <tr>\n",
       "      <th>7</th>\n",
       "      <td>0.869421</td>\n",
       "    </tr>\n",
       "    <tr>\n",
       "      <th>8</th>\n",
       "      <td>0.672444</td>\n",
       "    </tr>\n",
       "    <tr>\n",
       "      <th>9</th>\n",
       "      <td>0.630127</td>\n",
       "    </tr>\n",
       "    <tr>\n",
       "      <th>10</th>\n",
       "      <td>0.602124</td>\n",
       "    </tr>\n",
       "  </tbody>\n",
       "</table>\n",
       "</div>"
      ],
      "text/plain": [
       "    original_stability\n",
       "4             0.678164\n",
       "5             0.830800\n",
       "6             0.757402\n",
       "7             0.869421\n",
       "8             0.672444\n",
       "9             0.630127\n",
       "10            0.602124"
      ]
     },
     "execution_count": 12,
     "metadata": {},
     "output_type": "execute_result"
    }
   ],
   "source": [
    "stabilities = pd.DataFrame(stability.values(),index=stability.keys(),columns=['original_stability'])\n",
    "stabilities"
   ]
  },
  {
   "cell_type": "code",
   "execution_count": 13,
   "id": "5ea48cba",
   "metadata": {
    "scrolled": true
   },
   "outputs": [
    {
     "name": "stdout",
     "output_type": "stream",
     "text": [
      "time kmeans: 2.12\n",
      "time score : 0.1\n",
      "time kmeans: 2.32\n",
      "time score : 0.11\n",
      "time kmeans: 2.49\n",
      "time score : 0.11\n",
      "time kmeans: 2.59\n",
      "time score : 0.11\n",
      "time kmeans: 2.77\n",
      "time score : 0.12\n",
      "time kmeans: 2.97\n",
      "time score : 0.12\n",
      "time kmeans: 3.08\n",
      "time score : 0.13\n",
      "Wall time: 19.2 s\n"
     ]
    }
   ],
   "source": [
    "%%time\n",
    "new_stability = {}\n",
    "for n_clusters in neighborhood:\n",
    "    model = KMeans(n_clusters=n_clusters)\n",
    "    s = kmeans_stability(df_std, model, n_iter=40)\n",
    "    new_stability[n_clusters]=s"
   ]
  },
  {
   "cell_type": "code",
   "execution_count": 14,
   "id": "da4547f8",
   "metadata": {},
   "outputs": [
    {
     "data": {
      "text/html": [
       "<div>\n",
       "<style scoped>\n",
       "    .dataframe tbody tr th:only-of-type {\n",
       "        vertical-align: middle;\n",
       "    }\n",
       "\n",
       "    .dataframe tbody tr th {\n",
       "        vertical-align: top;\n",
       "    }\n",
       "\n",
       "    .dataframe thead th {\n",
       "        text-align: right;\n",
       "    }\n",
       "</style>\n",
       "<table border=\"1\" class=\"dataframe\">\n",
       "  <thead>\n",
       "    <tr style=\"text-align: right;\">\n",
       "      <th></th>\n",
       "      <th>original_stability</th>\n",
       "      <th>new_func_stability</th>\n",
       "    </tr>\n",
       "  </thead>\n",
       "  <tbody>\n",
       "    <tr>\n",
       "      <th>4</th>\n",
       "      <td>0.678164</td>\n",
       "      <td>0.763377</td>\n",
       "    </tr>\n",
       "    <tr>\n",
       "      <th>5</th>\n",
       "      <td>0.830800</td>\n",
       "      <td>0.927284</td>\n",
       "    </tr>\n",
       "    <tr>\n",
       "      <th>6</th>\n",
       "      <td>0.757402</td>\n",
       "      <td>0.792768</td>\n",
       "    </tr>\n",
       "    <tr>\n",
       "      <th>7</th>\n",
       "      <td>0.869421</td>\n",
       "      <td>0.932405</td>\n",
       "    </tr>\n",
       "    <tr>\n",
       "      <th>8</th>\n",
       "      <td>0.672444</td>\n",
       "      <td>0.635655</td>\n",
       "    </tr>\n",
       "    <tr>\n",
       "      <th>9</th>\n",
       "      <td>0.630127</td>\n",
       "      <td>0.694061</td>\n",
       "    </tr>\n",
       "    <tr>\n",
       "      <th>10</th>\n",
       "      <td>0.602124</td>\n",
       "      <td>0.522333</td>\n",
       "    </tr>\n",
       "  </tbody>\n",
       "</table>\n",
       "</div>"
      ],
      "text/plain": [
       "    original_stability  new_func_stability\n",
       "4             0.678164            0.763377\n",
       "5             0.830800            0.927284\n",
       "6             0.757402            0.792768\n",
       "7             0.869421            0.932405\n",
       "8             0.672444            0.635655\n",
       "9             0.630127            0.694061\n",
       "10            0.602124            0.522333"
      ]
     },
     "execution_count": 14,
     "metadata": {},
     "output_type": "execute_result"
    }
   ],
   "source": [
    "stabilities['new_func_stability'] = new_stability.values()\n",
    "stabilities"
   ]
  },
  {
   "cell_type": "code",
   "execution_count": 7,
   "id": "40ff5606",
   "metadata": {},
   "outputs": [
    {
     "data": {
      "text/plain": [
       "22.267206477732795"
      ]
     },
     "execution_count": 7,
     "metadata": {},
     "output_type": "execute_result"
    }
   ],
   "source": [
    "(24.7-19.2)/24.7*100"
   ]
  },
  {
   "cell_type": "markdown",
   "id": "a78d4b65",
   "metadata": {},
   "source": [
    "De forma geral, o tempo gasto para calcular o score da função original é próximo a 1s, contra 0.1s da função específica para o k-means, praticamente zerando o tempo para calcular o score. Porém, nesse caso, o kmeans é responsável pela maior parte do tempo de execução do código. Por isso, apesar da função de cálculo de score ser aproximadamente 10x mais rápida, de forma global, reduziu o tempo de execução em 22%, na média."
   ]
  },
  {
   "cell_type": "markdown",
   "id": "9d6722ab",
   "metadata": {},
   "source": [
    "Apesar dos dois algorítmos produzirem valores diferentes para medida de estabilidade (pois existem algumas diferenças no modo como os elementos são comparados), mas existe uma correlação forte entre eles e os dois indicam 7 como o numero de clusters que produz a clusterização mais estável."
   ]
  },
  {
   "cell_type": "code",
   "execution_count": 15,
   "id": "f3ac9629",
   "metadata": {},
   "outputs": [
    {
     "data": {
      "text/html": [
       "<div>\n",
       "<style scoped>\n",
       "    .dataframe tbody tr th:only-of-type {\n",
       "        vertical-align: middle;\n",
       "    }\n",
       "\n",
       "    .dataframe tbody tr th {\n",
       "        vertical-align: top;\n",
       "    }\n",
       "\n",
       "    .dataframe thead th {\n",
       "        text-align: right;\n",
       "    }\n",
       "</style>\n",
       "<table border=\"1\" class=\"dataframe\">\n",
       "  <thead>\n",
       "    <tr style=\"text-align: right;\">\n",
       "      <th></th>\n",
       "      <th>original_stability</th>\n",
       "      <th>new_func_stability</th>\n",
       "    </tr>\n",
       "  </thead>\n",
       "  <tbody>\n",
       "    <tr>\n",
       "      <th>original_stability</th>\n",
       "      <td>1.00000</td>\n",
       "      <td>0.93284</td>\n",
       "    </tr>\n",
       "    <tr>\n",
       "      <th>new_func_stability</th>\n",
       "      <td>0.93284</td>\n",
       "      <td>1.00000</td>\n",
       "    </tr>\n",
       "  </tbody>\n",
       "</table>\n",
       "</div>"
      ],
      "text/plain": [
       "                    original_stability  new_func_stability\n",
       "original_stability             1.00000             0.93284\n",
       "new_func_stability             0.93284             1.00000"
      ]
     },
     "execution_count": 15,
     "metadata": {},
     "output_type": "execute_result"
    }
   ],
   "source": [
    "stabilities.corr()"
   ]
  }
 ],
 "metadata": {
  "kernelspec": {
   "display_name": "Python 3 (ipykernel)",
   "language": "python",
   "name": "python3"
  },
  "language_info": {
   "codemirror_mode": {
    "name": "ipython",
    "version": 3
   },
   "file_extension": ".py",
   "mimetype": "text/x-python",
   "name": "python",
   "nbconvert_exporter": "python",
   "pygments_lexer": "ipython3",
   "version": "3.8.12"
  },
  "toc": {
   "base_numbering": 1,
   "nav_menu": {},
   "number_sections": true,
   "sideBar": true,
   "skip_h1_title": false,
   "title_cell": "Table of Contents",
   "title_sidebar": "Contents",
   "toc_cell": false,
   "toc_position": {},
   "toc_section_display": true,
   "toc_window_display": false
  },
  "varInspector": {
   "cols": {
    "lenName": 16,
    "lenType": 16,
    "lenVar": 40
   },
   "kernels_config": {
    "python": {
     "delete_cmd_postfix": "",
     "delete_cmd_prefix": "del ",
     "library": "var_list.py",
     "varRefreshCmd": "print(var_dic_list())"
    },
    "r": {
     "delete_cmd_postfix": ") ",
     "delete_cmd_prefix": "rm(",
     "library": "var_list.r",
     "varRefreshCmd": "cat(var_dic_list()) "
    }
   },
   "types_to_exclude": [
    "module",
    "function",
    "builtin_function_or_method",
    "instance",
    "_Feature"
   ],
   "window_display": false
  }
 },
 "nbformat": 4,
 "nbformat_minor": 5
}
